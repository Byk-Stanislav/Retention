{
 "cells": [
  {
   "cell_type": "code",
   "execution_count": 2,
   "metadata": {},
   "outputs": [],
   "source": [
    "import pandas as pd\n",
    "import datetime\n",
    "from datetime import datetime\n",
    "import matplotlib as plt\n",
    "import scipy\n",
    "from scipy.stats import chi2_contingency"
   ]
  },
  {
   "cell_type": "code",
   "execution_count": 3,
   "metadata": {},
   "outputs": [],
   "source": [
    "#функция будет принимать в себя дату, количество дней, на которое нужно рассчитать retantion, два датасета \n",
    "# с начальными данными. \n",
    "# Будет проводить обработку данных, считать retantion rate на заданное количество дней для этой даты \n",
    "# и для следующих дней после этой даты до истечения срока, который и задается количеством дней и выводить\n",
    "# таблицу с retantion для анализа\n",
    "def retantion_rate (d1, n, sr, sa):\n",
    "# d1 - дата\n",
    "# n - количество дней, на которое нужно рассчитать retantion\n",
    "# sr - датасет с данными по регистрации\n",
    "# sa - датасет с данными по авторизации\n",
    "    demo_registration = pd.read_csv(sr)\n",
    "    demo_authorization = pd.read_csv(sa)\n",
    "    #подготовка данных\n",
    "    registration = pd.DataFrame(columns=['registration_date', 'uid'])\n",
    "    registration[['registration_date', 'uid']] = demo_registration['reg_ts;uid'].str.split(';', expand=True)\n",
    "    authorization = pd.DataFrame(columns=['authorization_date', 'uid'])\n",
    "    authorization[['authorization_date', 'uid']] = demo_authorization['auth_ts;uid'].str.split(';', expand=True)\n",
    "    registration['registration_date'] = pd.to_datetime(registration[\"registration_date\"], unit=\"s\")\n",
    "    registration['registration_date'] = pd.to_datetime(registration['registration_date']).dt.date\n",
    "    registration['registration_date'] = pd.to_datetime(registration['registration_date'])\n",
    "    authorization['authorization_date'] = pd.to_datetime(authorization['authorization_date'], unit=\"s\")\n",
    "    authorization['authorization_date'] = pd.to_datetime(authorization['authorization_date']).dt.date\n",
    "    authorization['authorization_date'] = pd.to_datetime(authorization['authorization_date'])\n",
    "# данные готовы, можно считать retantion\n",
    "# таблица с одной пустой колонкой, которая будет наполняться значениями и выводиться на экран для анализа\n",
    "    main_freim = pd.DataFrame(columns=['дата'])\n",
    "    for u in range(1, n + 1):\n",
    "        # определение даты, от которой будет запускаться цикл\n",
    "        date_for_work_in_this_itereition = datetime.strptime(d1, \"%Y-%m-%d\").date() + timedelta(days= u - 1 )\n",
    "        # добаляю эту дату в ту самую итоговую таблицу в колонку 'дата'\n",
    "        main_freim.loc[u, 'дата'] = date_for_work_in_this_itereition\n",
    "        # добавление в эту талицу новых колонок, сначала они пустые, их названия - даты,\n",
    "        #содержание -renention для этих дат, заполняться они будут в цикле for, который ниже\n",
    "        main_freim[date_for_work_in_this_itereition] = pd.NA\n",
    "        # для каждой следующей даты нужно рассчитывать retention на 1 день меньше, это и есть то количество дней\n",
    "        number_of_days_we_need_retention = n + 1 - u\n",
    "        # количество пользователей, зарегистрировавшихся в этот день\n",
    "        number_of_registrations = registration.query('registration_date == @date_for_work_in_this_itereition').uid.nunique()\n",
    "        # список id этих пользователей\n",
    "        df_of_users_registrated_this_day = registration.query('registration_date == @date_for_work_in_this_itereition')\n",
    "        list_of_users_registrated_this_day = df_of_users_registrated_this_day['uid'].tolist()\n",
    "        # датасет авторизаций только по этим пользователям\n",
    "        authorization_who_registrated_date_for_work_in_this_itereition = authorization.query(\"uid in @list_of_users_registrated_this_day\")\n",
    "        # цикл для вычисления retention и добаления этих значений в таблицу\n",
    "        for i in range(1, number_of_days_we_need_retention + 1):\n",
    "            # определение даты, от которой будет запускаться цикл\n",
    "            neded_date = date_for_work_in_this_itereition + timedelta(days = i - 1)\n",
    "            # датасет авторизаций на определенное число только по тем самым пользователям (зарегистрировавшимся в \n",
    "            # определенный день(date_for_work_in_this_itereition)) \n",
    "            autorisations_this_date = authorization_who_registrated_date_for_work_in_this_itereition.query('authorization_date == @neded_date')\n",
    "            # их количество\n",
    "            number_of_autorisations_users = autorisations_this_date['uid'].nunique()\n",
    "            # подсчет retention\n",
    "            RR = round(number_of_autorisations_users / number_of_registrations * 100, 2)\n",
    "            # добавление retention в таблицу\n",
    "            main_freim.loc[u + i - 1, date_for_work_in_this_itereition] = RR\n",
    "    print(main_freim)\n",
    "# названия столбцов - даты регистрации, названия строк - даты, на которые показан retention пользователей, зарегистрировшихся\n",
    "# в даты регистрации"
   ]
  },
  {
   "cell_type": "code",
   "execution_count": 5,
   "metadata": {},
   "outputs": [
    {
     "name": "stdout",
     "output_type": "stream",
     "text": [
      "         дата 2019-09-23 2019-09-24 2019-09-25 2019-09-26 2019-09-27  \\\n",
      "1  2019-09-23        100       <NA>       <NA>       <NA>       <NA>   \n",
      "2  2019-09-24       1.56        100       <NA>       <NA>       <NA>   \n",
      "3  2019-09-25       3.22       1.77        100       <NA>       <NA>   \n",
      "4  2019-09-26       3.89       3.33       2.77        100       <NA>   \n",
      "5  2019-09-27       5.22       4.21       4.42       3.09        100   \n",
      "6  2019-09-28       5.22       3.33       4.42       3.76       1.65   \n",
      "7  2019-09-29       7.33       4.55       5.75       4.86       3.53   \n",
      "\n",
      "  2019-09-28 2019-09-29  \n",
      "1       <NA>       <NA>  \n",
      "2       <NA>       <NA>  \n",
      "3       <NA>       <NA>  \n",
      "4       <NA>       <NA>  \n",
      "5       <NA>       <NA>  \n",
      "6        100       <NA>  \n",
      "7       1.65        100  \n"
     ]
    }
   ],
   "source": [
    "retantion_rate('2019-09-23', 7, 'problem1-reg_data.csv', 'problem1-auth_data.csv')"
   ]
  },
  {
   "cell_type": "code",
   "execution_count": null,
   "metadata": {},
   "outputs": [],
   "source": []
  }
 ],
 "metadata": {
  "kernelspec": {
   "display_name": "Python 3",
   "language": "python",
   "name": "python3"
  },
  "language_info": {
   "codemirror_mode": {
    "name": "ipython",
    "version": 3
   },
   "file_extension": ".py",
   "mimetype": "text/x-python",
   "name": "python",
   "nbconvert_exporter": "python",
   "pygments_lexer": "ipython3",
   "version": "3.7.3"
  }
 },
 "nbformat": 4,
 "nbformat_minor": 4
}
